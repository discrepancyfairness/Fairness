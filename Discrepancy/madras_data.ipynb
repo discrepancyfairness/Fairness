{
 "cells": [
  {
   "cell_type": "code",
   "execution_count": 7,
   "metadata": {},
   "outputs": [],
   "source": [
    "#practice propub\n",
    "import pandas as pd\n",
    "df = pd.read_csv('propub.csv', header= None)\n",
    "    \n",
    "columns = ['0','1','2','3','4','5','6','7']\n",
    "\n",
    "\n",
    "p=pd.read_csv('propub.csv', header=None, skiprows=1)\n",
    "\n",
    "df11=p.iloc[0:3694,:]\n",
    "df22=p.iloc[3694:5278,:]\n",
    "\n",
    "#print(df1.shape[0],df2.shape[0])\n",
    "p=int(64*(np.ceil(df1.shape[0]/64)-df1.shape[0]/64))\n",
    "q=int(64*(np.ceil(df2.shape[0]/64)-df2.shape[0]/64))\n",
    "#print(p,q)\n",
    "\n",
    "df1=df11.append(df1.iloc[0:p,:])\n",
    "df2=df22.append(df2.iloc[0:q,:])\n",
    "#print(df11.shape[0],df22.shape[0])\n",
    "\n",
    "df1.to_csv('propub_tr.csv',index=False,header=False)\n",
    "df2.to_csv('propub_te.csv',index=False,header=False)\n",
    "\n",
    "\n",
    "# f_in_tr = 'propub_tr.csv'\n",
    "# f_in_te = 'propub_te.csv'"
   ]
  },
  {
   "cell_type": "code",
   "execution_count": 5,
   "metadata": {},
   "outputs": [
    {
     "name": "stdout",
     "output_type": "stream",
     "text": [
      "3694 1584\n",
      "18 16\n",
      "3712 1600\n"
     ]
    }
   ],
   "source": [
    "import numpy as np\n",
    "print(df1.shape[0],df2.shape[0])\n",
    "p=int(64*(np.ceil(df1.shape[0]/64)-df1.shape[0]/64))\n",
    "q=int(64*(np.ceil(df2.shape[0]/64)-df2.shape[0]/64))\n",
    "print(p,q)\n",
    "\n",
    "df11=df1.append(df1.iloc[0:p,:])\n",
    "df22=df2.append(df2.iloc[0:q,:])\n",
    "#print(df11.shape[0],df22.shape[0])\n"
   ]
  },
  {
   "cell_type": "code",
   "execution_count": 4,
   "metadata": {},
   "outputs": [
    {
     "data": {
      "text/plain": [
       "(5278, 8)"
      ]
     },
     "execution_count": 4,
     "metadata": {},
     "output_type": "execute_result"
    }
   ],
   "source": [
    "k=df1.append(df2)\n",
    "k.shape"
   ]
  },
  {
   "cell_type": "code",
   "execution_count": 45,
   "metadata": {},
   "outputs": [
    {
     "name": "stdout",
     "output_type": "stream",
     "text": [
      "10\n",
      "[1. 1. 1. 1. 1. 1. 1. 1. 1. 1.]\n",
      "(10,)\n",
      "[1. 1. 1. 1. 1. 1. 1. 1. 0. 0.]\n"
     ]
    },
    {
     "data": {
      "text/plain": [
       "8.0"
      ]
     },
     "execution_count": 45,
     "metadata": {},
     "output_type": "execute_result"
    }
   ],
   "source": [
    "k=2\n",
    "\n",
    "p=np.ones(10)\n",
    "t=p\n",
    "n=p.shape[0]\n",
    "print(n)\n",
    "print(p)\n",
    "p[n-k:n]=0\n",
    "\n",
    "print(p.shape)\n",
    "print(t)\n",
    "np.sum(np.multiply(p,t))\n"
   ]
  },
  {
   "cell_type": "code",
   "execution_count": 41,
   "metadata": {},
   "outputs": [
    {
     "name": "stdout",
     "output_type": "stream",
     "text": [
      "[[0.]\n",
      " [0.]\n",
      " [0.]\n",
      " [0.]\n",
      " [0.]\n",
      " [0.]\n",
      " [0.]\n",
      " [0.]\n",
      " [0.]\n",
      " [0.]]\n"
     ]
    }
   ],
   "source": [
    "p=np.zeros((10,1),dtype=float)\n",
    "print(p)\n",
    "q=np.concatenate((p,[[1], [1], [1] ,[1]]))"
   ]
  },
  {
   "cell_type": "code",
   "execution_count": 50,
   "metadata": {},
   "outputs": [
    {
     "name": "stdout",
     "output_type": "stream",
     "text": [
      "[[0.]\n",
      " [0.]\n",
      " [0.]\n",
      " [0.]\n",
      " [0.]\n",
      " [0.]\n",
      " [0.]\n",
      " [0.]\n",
      " [0.]\n",
      " [0.]\n",
      " [1.]\n",
      " [1.]\n",
      " [1.]\n",
      " [1.]]\n",
      "[[1.]\n",
      " [1.]\n",
      " [1.]\n",
      " [1.]\n",
      " [1.]\n",
      " [1.]\n",
      " [1.]\n",
      " [1.]\n",
      " [1.]\n",
      " [1.]\n",
      " [1.]\n",
      " [1.]\n",
      " [1.]\n",
      " [1.]]\n",
      "[[0.]\n",
      " [0.]\n",
      " [0.]\n",
      " [0.]\n",
      " [0.]\n",
      " [0.]\n",
      " [0.]\n",
      " [0.]\n",
      " [0.]\n",
      " [0.]\n",
      " [1.]\n",
      " [1.]\n",
      " [1.]\n",
      " [1.]]\n"
     ]
    }
   ],
   "source": [
    "s=np.ones((14,1))\n",
    "k=np.multiply(s,q)\n",
    "print(q)\n",
    "print(s)\n",
    "print(k)\n"
   ]
  },
  {
   "cell_type": "code",
   "execution_count": null,
   "metadata": {},
   "outputs": [],
   "source": []
  }
 ],
 "metadata": {
  "kernelspec": {
   "display_name": "tensorflow",
   "language": "python",
   "name": "tensorflow"
  },
  "language_info": {
   "codemirror_mode": {
    "name": "ipython",
    "version": 3
   },
   "file_extension": ".py",
   "mimetype": "text/x-python",
   "name": "python",
   "nbconvert_exporter": "python",
   "pygments_lexer": "ipython3",
   "version": "3.6.10"
  }
 },
 "nbformat": 4,
 "nbformat_minor": 4
}
